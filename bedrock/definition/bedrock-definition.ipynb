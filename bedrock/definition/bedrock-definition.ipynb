{
 "cells": [
  {
   "cell_type": "markdown",
   "id": "073fb566-1bb1-46ec-bdb3-7012a2e74714",
   "metadata": {},
   "source": [
    "## Prerequisites\n",
    "Before starting, let's update the botocore and boto3 packages to ensure we have the latest version"
   ]
  },
  {
   "cell_type": "code",
   "execution_count": 1,
   "id": "c603ce06-61d8-4236-92e8-883e0d49cfea",
   "metadata": {
    "tags": []
   },
   "outputs": [
    {
     "name": "stdout",
     "output_type": "stream",
     "text": [
      "Requirement already satisfied: python-dotenv in /Users/jp/Documents/github/factored-datathon-2024-unlock/bedrock/venv/lib/python3.9/site-packages (1.0.1)\n"
     ]
    }
   ],
   "source": [
    "# !python3 -m pip install --upgrade pip\n",
    "!python3 -m pip install --upgrade -q botocore\n",
    "!python3 -m pip install --upgrade -q boto3\n",
    "!python3 -m pip install --upgrade -q awscli\n",
    "!python3 -m pip install python-dotenv"
   ]
  },
  {
   "cell_type": "markdown",
   "id": "b7f3bc3b-4db6-44bb-8d8e-3ea58e811111",
   "metadata": {},
   "source": [
    "Let's now check the boto3 version to ensure the correct version has been installed. Your version should be greater than or equal to 1.34.90."
   ]
  },
  {
   "cell_type": "code",
   "execution_count": 2,
   "id": "5255655e-d83e-416a-a459-83590483d22b",
   "metadata": {
    "tags": []
   },
   "outputs": [
    {
     "name": "stdout",
     "output_type": "stream",
     "text": [
      "1.35.5\n"
     ]
    },
    {
     "data": {
      "text/plain": [
       "True"
      ]
     },
     "execution_count": 2,
     "metadata": {},
     "output_type": "execute_result"
    }
   ],
   "source": [
    "import boto3\n",
    "import json\n",
    "import time\n",
    "import zipfile\n",
    "from io import BytesIO\n",
    "import uuid\n",
    "import pprint\n",
    "import logging\n",
    "from dotenv import load_dotenv\n",
    "import os\n",
    "print(boto3.__version__)\n",
    "\n",
    "\n",
    "load_dotenv()  # take environment variables from .env."
   ]
  },
  {
   "cell_type": "code",
   "execution_count": 3,
   "id": "94eebab4",
   "metadata": {},
   "outputs": [],
   "source": [
    "aws_access_key_id = os.getenv('AWS_ACCESS_KEY_ID')\n",
    "aws_secret_access_key = os.getenv('AWS_SECRET_ACCESS_KEY')\n",
    "aws_region = os.getenv('AWS_REGION')"
   ]
  },
  {
   "cell_type": "code",
   "execution_count": 4,
   "id": "593be615-dab2-4084-a518-ee905113bfc7",
   "metadata": {
    "tags": []
   },
   "outputs": [],
   "source": [
    "# setting logger\n",
    "logging.basicConfig(format='[%(asctime)s] p%(process)s {%(filename)s:%(lineno)d} %(levelname)s - %(message)s', level=logging.INFO)\n",
    "logger = logging.getLogger(__name__)"
   ]
  },
  {
   "cell_type": "markdown",
   "id": "52dad4b8-c2e0-44cf-99ee-5c2a7e1a600f",
   "metadata": {},
   "source": [
    "Let's now create the boto3 clients for the required AWS services"
   ]
  },
  {
   "cell_type": "code",
   "execution_count": 5,
   "id": "67883027-bbb5-42a6-955d-0aa019a8e4b3",
   "metadata": {
    "tags": []
   },
   "outputs": [],
   "source": [
    "# getting boto3 clients for required AWS services\n",
    "sts_client = boto3.client(\n",
    "    \"sts\",\n",
    "    aws_access_key_id=aws_access_key_id,\n",
    "    aws_secret_access_key=aws_secret_access_key,\n",
    "    region_name=aws_region,\n",
    ")\n",
    "iam_client = boto3.client(\n",
    "    \"iam\",\n",
    "    aws_access_key_id=aws_access_key_id,\n",
    "    aws_secret_access_key=aws_secret_access_key,\n",
    "    region_name=aws_region,\n",
    ")\n",
    "lambda_client = boto3.client(\n",
    "    \"lambda\",\n",
    "    aws_access_key_id=aws_access_key_id,\n",
    "    aws_secret_access_key=aws_secret_access_key,\n",
    "    region_name=aws_region,\n",
    ")\n",
    "bedrock_agent_client = boto3.client(\n",
    "    \"bedrock-agent\",\n",
    "    aws_access_key_id=aws_access_key_id,\n",
    "    aws_secret_access_key=aws_secret_access_key,\n",
    "    region_name=aws_region,\n",
    ")\n",
    "bedrock_agent_runtime_client = boto3.client(\n",
    "    \"bedrock-agent-runtime\",\n",
    "    aws_access_key_id=aws_access_key_id,\n",
    "    aws_secret_access_key=aws_secret_access_key,\n",
    "    region_name=aws_region,\n",
    ")"
   ]
  },
  {
   "cell_type": "markdown",
   "id": "71505c3b-c2a5-47dc-a427-77f21ab50f0d",
   "metadata": {},
   "source": [
    "Next we can set some configuration variables for the agent and for the lambda function being created"
   ]
  },
  {
   "cell_type": "code",
   "execution_count": 6,
   "id": "f6af5cd4-33b8-40c3-9d99-1790540eb60c",
   "metadata": {
    "tags": []
   },
   "outputs": [
    {
     "data": {
      "text/plain": [
       "('us-east-1', '738012852934')"
      ]
     },
     "execution_count": 6,
     "metadata": {},
     "output_type": "execute_result"
    }
   ],
   "source": [
    "session = boto3.session.Session(\n",
    "    aws_access_key_id=aws_access_key_id,\n",
    "    aws_secret_access_key=aws_secret_access_key,\n",
    "    region_name=aws_region,\n",
    ")\n",
    "region = session.region_name\n",
    "account_id = sts_client.get_caller_identity()[\"Account\"]\n",
    "region, account_id"
   ]
  },
  {
   "cell_type": "code",
   "execution_count": 7,
   "id": "0dcb5332-c035-435a-91e5-838ec95d9a7d",
   "metadata": {
    "tags": []
   },
   "outputs": [],
   "source": [
    "# configuration variables\n",
    "\n",
    "agent_name = \"monkeypox-impact-monitor\"\n",
    "agent_description = \"Agent for monitoring travel restrictions, analyzing public sentiment, and validating news sources to support travel insurance decisions related to monkeypox outbreaks.\"\n",
    "agent_instruction = \"You are an intelligent agent designed to assist a travel insurance agency by monitoring global travel restrictions, analyzing public sentiment, and validating news related to monkeypox outbreaks. Your insights help the agency adjust coverage, refine marketing strategies, and ensure credible decision-making to protect and inform customers.\"\n",
    "agent_action_group_name = \"MonkeypoxImpactActionGroup\"\n",
    "agent_action_group_description = \"Actions for monitoring travel restrictions, performing sentiment analysis on tourism destinations, and validating the credibility of news sources to support travel insurance adjustments.\"\n",
    "\n",
    "\n",
    "suffix = f\"{region}-{account_id}\"\n",
    "agent_bedrock_allow_policy_name = f\"{agent_name}-ba-{suffix}\"\n",
    "agent_role_name = f'AmazonBedrockExecutionRoleForAgents_{agent_name}'\n",
    "agent_foundation_model = \"anthropic.claude-3-sonnet-20240229-v1:0\"\n",
    "agent_alias_name = f\"{agent_name}-alias\"\n",
    "lambda_function_role = f'{agent_name}-lambda-role-{suffix}'\n",
    "lambda_function_name = f'{agent_name}-{suffix}'"
   ]
  },
  {
   "cell_type": "markdown",
   "id": "40325ffc-b89e-4f44-813b-a7c7b3f1f977",
   "metadata": {},
   "source": [
    "## Creating Lambda Function\n",
    "\n",
    "We will now create a lambda function. To do so we will:\n",
    "1. Create the `lambda_function.py` file which contains the logic for access to other sources\n",
    "2. Create the IAM role for our Lambda function\n",
    "3. Create the lambda function infrastructure with the required permissions"
   ]
  },
  {
   "cell_type": "markdown",
   "id": "4f63b906-9eff-4b99-a466-5aeb81e0d095",
   "metadata": {},
   "source": [
    "Let's now create our lambda function. It implements the functionality for `get_available_vacations_days` for a given employee_id and `book_vacations` for an employee giving a start and end date"
   ]
  },
  {
   "cell_type": "code",
   "execution_count": 9,
   "id": "476a71a8-61c1-4dd4-89a1-6ac59f38cd3d",
   "metadata": {
    "tags": []
   },
   "outputs": [],
   "source": [
    "# %%writefile lambda_function.py\n",
    "\n",
    "\n",
    "# def lambda_handler(event, context):\n",
    "# #    Implement code"
   ]
  },
  {
   "cell_type": "markdown",
   "id": "bc3920a2-7909-4725-ab86-df3000d2c963",
   "metadata": {},
   "source": [
    "Next let's create the lambda IAM role and policy to invoke a Bedrock model"
   ]
  },
  {
   "cell_type": "code",
   "execution_count": 10,
   "id": "e9a5ad9c-7fc0-4844-bc89-c32e409dd327",
   "metadata": {
    "tags": []
   },
   "outputs": [
    {
     "data": {
      "text/plain": [
       "{'ResponseMetadata': {'RequestId': '57f53524-cf9e-45db-8da8-a065c37ac6f6',\n",
       "  'HTTPStatusCode': 200,\n",
       "  'HTTPHeaders': {'date': 'Sun, 25 Aug 2024 22:59:02 GMT',\n",
       "   'x-amzn-requestid': '57f53524-cf9e-45db-8da8-a065c37ac6f6',\n",
       "   'content-type': 'text/xml',\n",
       "   'content-length': '212'},\n",
       "  'RetryAttempts': 0}}"
      ]
     },
     "execution_count": 10,
     "metadata": {},
     "output_type": "execute_result"
    }
   ],
   "source": [
    "# Create IAM Role for the Lambda function\n",
    "try:\n",
    "    assume_role_policy_document = {\n",
    "        \"Version\": \"2012-10-17\",\n",
    "        \"Statement\": [\n",
    "            {\n",
    "                \"Effect\": \"Allow\",\n",
    "                \"Action\": \"bedrock:InvokeModel\",\n",
    "                \"Principal\": {\n",
    "                    \"Service\": \"lambda.amazonaws.com\"\n",
    "                },\n",
    "                \"Action\": \"sts:AssumeRole\"\n",
    "            }\n",
    "        ]\n",
    "    }\n",
    "\n",
    "    assume_role_policy_document_json = json.dumps(assume_role_policy_document)\n",
    "\n",
    "    lambda_iam_role = iam_client.create_role(\n",
    "        RoleName=lambda_function_role,\n",
    "        AssumeRolePolicyDocument=assume_role_policy_document_json\n",
    "    )\n",
    "\n",
    "    # Pause to make sure role is created\n",
    "    time.sleep(10)\n",
    "except:\n",
    "    lambda_iam_role = iam_client.get_role(RoleName=lambda_function_role)\n",
    "\n",
    "iam_client.attach_role_policy(\n",
    "    RoleName=lambda_function_role,\n",
    "    PolicyArn='arn:aws:iam::aws:policy/service-role/AWSLambdaBasicExecutionRole'\n",
    ")"
   ]
  },
  {
   "cell_type": "markdown",
   "id": "1377cc22-4035-43d0-8e55-648107d5b087",
   "metadata": {},
   "source": [
    "We can now package the lambda function to a Zip file and create the lambda function using boto3"
   ]
  },
  {
   "cell_type": "code",
   "execution_count": 11,
   "id": "4db0472f-dfda-4085-8a44-89971f34c5a9",
   "metadata": {
    "tags": []
   },
   "outputs": [],
   "source": [
    "# Package up the lambda function code\n",
    "s = BytesIO()\n",
    "z = zipfile.ZipFile(s, 'w')\n",
    "\n",
    "z.write(\"lambda_function.py\")\n",
    "\n",
    "z.write(\"bing.py\")\n",
    "z.write(\"data_lake.py\")\n",
    "z.write(\"helpers.py\")\n",
    "z.write(\"pinecone.py\")\n",
    "\n",
    "z.close()\n",
    "zip_content = s.getvalue()\n",
    "\n",
    "# Create Lambda Function\n",
    "lambda_function = lambda_client.create_function(\n",
    "    FunctionName=lambda_function_name,\n",
    "    Runtime='python3.9',\n",
    "    Timeout=180,\n",
    "    Role=lambda_iam_role['Role']['Arn'],\n",
    "    Code={'ZipFile': zip_content},\n",
    "    Handler='lambda_function.lambda_handler'\n",
    ")"
   ]
  },
  {
   "cell_type": "code",
   "execution_count": 52,
   "id": "fb3ec354",
   "metadata": {},
   "outputs": [
    {
     "name": "stdout",
     "output_type": "stream",
     "text": [
      "Update Response: {'ResponseMetadata': {'RequestId': '47efb611-222d-4281-abe9-184b3e1cb720', 'HTTPStatusCode': 200, 'HTTPHeaders': {'date': 'Mon, 26 Aug 2024 01:26:30 GMT', 'content-type': 'application/json', 'content-length': '1480', 'connection': 'keep-alive', 'x-amzn-requestid': '47efb611-222d-4281-abe9-184b3e1cb720'}, 'RetryAttempts': 0}, 'FunctionName': 'monkeypox-impact-monitor-us-east-1-738012852934', 'FunctionArn': 'arn:aws:lambda:us-east-1:738012852934:function:monkeypox-impact-monitor-us-east-1-738012852934', 'Runtime': 'python3.9', 'Role': 'arn:aws:iam::738012852934:role/monkeypox-impact-monitor-lambda-role-us-east-1-738012852934', 'Handler': 'lambda_function.lambda_handler', 'CodeSize': 5290, 'Description': '', 'Timeout': 180, 'MemorySize': 128, 'LastModified': '2024-08-26T01:26:30.000+0000', 'CodeSha256': 'ANeux/Ks2vjWtn4VT3EBerHMG4nmexudjnHV5POuIxU=', 'Version': '$LATEST', 'TracingConfig': {'Mode': 'PassThrough'}, 'RevisionId': 'c4241823-60c0-4026-bd68-29cafe9337ac', 'State': 'Active', 'LastUpdateStatus': 'InProgress', 'LastUpdateStatusReason': 'The function is being created.', 'LastUpdateStatusReasonCode': 'Creating', 'PackageType': 'Zip', 'Architectures': ['x86_64'], 'EphemeralStorage': {'Size': 512}, 'SnapStart': {'ApplyOn': 'None', 'OptimizationStatus': 'Off'}, 'RuntimeVersionConfig': {'RuntimeVersionArn': 'arn:aws:lambda:us-east-1::runtime:52e9b67213e4ba48e3c265ce3aa86c478ce792bbd68bc88225db1202a975ddda'}, 'LoggingConfig': {'LogFormat': 'Text', 'LogGroup': '/aws/lambda/monkeypox-impact-monitor-us-east-1-738012852934'}}\n"
     ]
    }
   ],
   "source": [
    "# UPDATE LAMBDA!\n",
    "\n",
    "# Package up the lambda function code\n",
    "s = BytesIO()\n",
    "z = zipfile.ZipFile(s, 'w')\n",
    "\n",
    "# Add your updated code files to the zip\n",
    "z.write(\"./lambda/lambda_function.py\")\n",
    "z.write(\"./lambda/bing.py\")\n",
    "z.write(\"./lambda/data_lake.py\")\n",
    "z.write(\"./lambda/helpers.py\")\n",
    "z.write(\"./lambda/pinecone.py\")\n",
    "z.write(\"./lambda/.env\")\n",
    "\n",
    "z.close()\n",
    "zip_content = s.getvalue()\n",
    "\n",
    "# Update Lambda Function Code\n",
    "response = lambda_client.update_function_code(\n",
    "    FunctionName=lambda_function_name,\n",
    "    ZipFile=zip_content\n",
    ")\n",
    "\n",
    "# Print response to confirm update\n",
    "print(\"Update Response:\", response)"
   ]
  },
  {
   "cell_type": "markdown",
   "id": "87aa9665-7cab-4794-b496-fd84a8a7972b",
   "metadata": {},
   "source": [
    "## Create Agent\n",
    "We will now create the agent. To do so, we first need to create the agent policies that allow bedrock model invocation for a specific foundation model and the agent IAM role with the policy associated to it. "
   ]
  },
  {
   "cell_type": "code",
   "execution_count": 12,
   "id": "10ffd724-3d1b-4916-8513-466c5dd03fcc",
   "metadata": {
    "tags": []
   },
   "outputs": [],
   "source": [
    "# Create IAM policies for agent\n",
    "bedrock_agent_bedrock_allow_policy_statement = {\n",
    "    \"Version\": \"2012-10-17\",\n",
    "    \"Statement\": [\n",
    "        {\n",
    "            \"Sid\": \"AmazonBedrockAgentBedrockFoundationModelPolicy\",\n",
    "            \"Effect\": \"Allow\",\n",
    "            \"Action\": \"bedrock:InvokeModel\",\n",
    "            \"Resource\": [\n",
    "                f\"arn:aws:bedrock:{region}::foundation-model/{agent_foundation_model}\"\n",
    "            ]\n",
    "        }\n",
    "    ]\n",
    "}\n",
    "\n",
    "bedrock_policy_json = json.dumps(bedrock_agent_bedrock_allow_policy_statement)\n",
    "\n",
    "agent_bedrock_policy = iam_client.create_policy(\n",
    "    PolicyName=agent_bedrock_allow_policy_name,\n",
    "    PolicyDocument=bedrock_policy_json\n",
    ")\n",
    "\n"
   ]
  },
  {
   "cell_type": "code",
   "execution_count": 13,
   "id": "83f3cf61-e65b-4c61-8a66-76bd5946eb32",
   "metadata": {
    "tags": []
   },
   "outputs": [
    {
     "data": {
      "text/plain": [
       "{'ResponseMetadata': {'RequestId': 'f5f2de62-2417-4408-8ac4-b0a27107d1e6',\n",
       "  'HTTPStatusCode': 200,\n",
       "  'HTTPHeaders': {'date': 'Sun, 25 Aug 2024 23:00:42 GMT',\n",
       "   'x-amzn-requestid': 'f5f2de62-2417-4408-8ac4-b0a27107d1e6',\n",
       "   'content-type': 'text/xml',\n",
       "   'content-length': '212'},\n",
       "  'RetryAttempts': 0}}"
      ]
     },
     "execution_count": 13,
     "metadata": {},
     "output_type": "execute_result"
    }
   ],
   "source": [
    "# Create IAM Role for the agent and attach IAM policies\n",
    "assume_role_policy_document = {\n",
    "    \"Version\": \"2012-10-17\",\n",
    "    \"Statement\": [{\n",
    "          \"Effect\": \"Allow\",\n",
    "          \"Principal\": {\n",
    "            \"Service\": \"bedrock.amazonaws.com\"\n",
    "          },\n",
    "          \"Action\": \"sts:AssumeRole\"\n",
    "    }]\n",
    "}\n",
    "\n",
    "assume_role_policy_document_json = json.dumps(assume_role_policy_document)\n",
    "agent_role = iam_client.create_role(\n",
    "    RoleName=agent_role_name,\n",
    "    AssumeRolePolicyDocument=assume_role_policy_document_json\n",
    ")\n",
    "\n",
    "# Pause to make sure role is created\n",
    "time.sleep(10)\n",
    "    \n",
    "iam_client.attach_role_policy(\n",
    "    RoleName=agent_role_name,\n",
    "    PolicyArn=agent_bedrock_policy['Policy']['Arn']\n",
    ")"
   ]
  },
  {
   "cell_type": "markdown",
   "id": "6083fe88-05af-4455-9744-e9593fc784f3",
   "metadata": {},
   "source": [
    "### Creating the agent\n",
    "Once the needed IAM role is created, we can use the Bedrock Agent client to create a new agent. To do so we use the `create_agent` function. It requires an agent name, underlying foundation model and instructions. You can also provide an agent description. Note that the agent created is not yet prepared. Later, we will prepare and use the agent."
   ]
  },
  {
   "cell_type": "code",
   "execution_count": 14,
   "id": "6251ebaa-693d-4fee-b28c-2b0692d94ae5",
   "metadata": {
    "tags": []
   },
   "outputs": [
    {
     "data": {
      "text/plain": [
       "{'ResponseMetadata': {'RequestId': '67b8166d-46c4-4731-a06e-97d33d702821',\n",
       "  'HTTPStatusCode': 202,\n",
       "  'HTTPHeaders': {'date': 'Sun, 25 Aug 2024 23:01:08 GMT',\n",
       "   'content-type': 'application/json',\n",
       "   'content-length': '1006',\n",
       "   'connection': 'keep-alive',\n",
       "   'x-amzn-requestid': '67b8166d-46c4-4731-a06e-97d33d702821',\n",
       "   'x-amz-apigw-id': 'dFmkMGraIAMEOoQ=',\n",
       "   'x-amzn-trace-id': 'Root=1-66cbb7b4-2865a5d7618ce6e95dc16007'},\n",
       "  'RetryAttempts': 0},\n",
       " 'agent': {'agentArn': 'arn:aws:bedrock:us-east-1:738012852934:agent/VNSFCLRGBB',\n",
       "  'agentId': 'VNSFCLRGBB',\n",
       "  'agentName': 'monkeypox-impact-monitor',\n",
       "  'agentResourceRoleArn': 'arn:aws:iam::738012852934:role/AmazonBedrockExecutionRoleForAgents_monkeypox-impact-monitor',\n",
       "  'agentStatus': 'CREATING',\n",
       "  'createdAt': datetime.datetime(2024, 8, 25, 23, 1, 8, 344339, tzinfo=tzutc()),\n",
       "  'description': 'Agent for monitoring travel restrictions, analyzing public sentiment, and validating news sources to support travel insurance decisions related to monkeypox outbreaks.',\n",
       "  'foundationModel': 'anthropic.claude-3-sonnet-20240229-v1:0',\n",
       "  'idleSessionTTLInSeconds': 1800,\n",
       "  'instruction': 'You are an intelligent agent designed to assist a travel insurance agency by monitoring global travel restrictions, analyzing public sentiment, and validating news related to monkeypox outbreaks. Your insights help the agency adjust coverage, refine marketing strategies, and ensure credible decision-making to protect and inform customers.',\n",
       "  'updatedAt': datetime.datetime(2024, 8, 25, 23, 1, 8, 344339, tzinfo=tzutc())}}"
      ]
     },
     "execution_count": 14,
     "metadata": {},
     "output_type": "execute_result"
    }
   ],
   "source": [
    "response = bedrock_agent_client.create_agent(\n",
    "    agentName=agent_name,\n",
    "    agentResourceRoleArn=agent_role['Role']['Arn'],\n",
    "    description=agent_description,\n",
    "    idleSessionTTLInSeconds=1800,\n",
    "    foundationModel=agent_foundation_model,\n",
    "    instruction=agent_instruction,\n",
    ")\n",
    "response"
   ]
  },
  {
   "cell_type": "markdown",
   "id": "55a44f69-64ae-45ce-8961-41cf4363f271",
   "metadata": {},
   "source": [
    "Let's now store the agent id in a local variable to use it on subsequent steps."
   ]
  },
  {
   "cell_type": "code",
   "execution_count": 15,
   "id": "0774ea09-6ccf-476d-b2bb-c8265b614f60",
   "metadata": {
    "tags": []
   },
   "outputs": [
    {
     "data": {
      "text/plain": [
       "'VNSFCLRGBB'"
      ]
     },
     "execution_count": 15,
     "metadata": {},
     "output_type": "execute_result"
    }
   ],
   "source": [
    "agent_id = response['agent']['agentId']\n",
    "agent_id"
   ]
  },
  {
   "cell_type": "markdown",
   "id": "65efbf63-fbdb-4220-ab89-c7af740447ef",
   "metadata": {},
   "source": [
    "## Create Agent Action Group\n",
    "We will now create an agent action group that uses the lambda function created earlier. The [`create_agent_action_group`](https://boto3.amazonaws.com/v1/documentation/api/latest/reference/services/bedrock-agent/client/create_agent_action_group.html) function provides this functionality. We will use `DRAFT` as the agent version since we haven't yet created an agent version or alias. To inform the agent about the action group capabilities, we provide an action group description.\n",
    "\n",
    "In this example, we provide the Action Group functionality using a `functionSchema`. You can alternatively provide an `APISchema`.\n",
    "\n",
    "To define the functions using a function schema, you need to provide the `name`, `description` and `parameters` for each function."
   ]
  },
  {
   "cell_type": "code",
   "execution_count": 16,
   "id": "a99e5855-fe22-450b-889a-da73e44fdc30",
   "metadata": {
    "tags": []
   },
   "outputs": [],
   "source": [
    "agent_functions = [\n",
    "    {\n",
    "        'name': 'monitor_travel_restrictions',\n",
    "        'description': 'Monitors global travel restrictions related to monkeypox outbreaks and adjusts insurance coverage options.',\n",
    "        'parameters': {\n",
    "            \"region\": {\n",
    "                \"description\": \"The specific region or country to monitor for travel restrictions.\",\n",
    "                \"required\": True,\n",
    "                \"type\": \"string\"\n",
    "            },\n",
    "            \"alert_threshold\": {\n",
    "                \"description\": \"The number of news articles or alerts required to trigger an insurance policy adjustment.\",\n",
    "                \"required\": True,\n",
    "                \"type\": \"integer\"\n",
    "            },\n",
    "            \"coverage_type\": {\n",
    "                \"description\": \"The type of insurance coverage to adjust (e.g., medical, cancellation).\",\n",
    "                \"required\": False,\n",
    "                \"type\": \"string\"\n",
    "            }\n",
    "        }\n",
    "    },\n",
    "    {\n",
    "        'name': 'analyze_public_sentiment',\n",
    "        'description': 'Performs sentiment analysis on news articles to assess public perception of tourism destinations in light of monkeypox outbreaks.',\n",
    "        'parameters': {\n",
    "            \"destination\": {\n",
    "                \"description\": \"The tourist destination or region to analyze for sentiment.\",\n",
    "                \"required\": True,\n",
    "                \"type\": \"string\"\n",
    "            },\n",
    "            \"time_frame\": {\n",
    "                \"description\": \"The period over which to analyze sentiment (e.g., last week, last month).\",\n",
    "                \"required\": False,\n",
    "                \"type\": \"string\"\n",
    "            }\n",
    "        }\n",
    "    },\n",
    "    {\n",
    "        'name': 'validate_news_sources',\n",
    "        'description': 'Verifies the credibility and accuracy of news articles related to monkeypox outbreaks using multiple sources.',\n",
    "        'parameters': {\n",
    "            \"news_id\": {\n",
    "                \"description\": \"The unique identifier of the news article to validate.\",\n",
    "                \"required\": True,\n",
    "                \"type\": \"string\"\n",
    "            },\n",
    "            \"source_criteria\": {\n",
    "                \"description\": \"Criteria for source validation (e.g., governmental, medical).\",\n",
    "                \"required\": False,\n",
    "                \"type\": \"string\"\n",
    "            }\n",
    "        }\n",
    "    }\n",
    "]"
   ]
  },
  {
   "cell_type": "code",
   "execution_count": 17,
   "id": "d474b3e7-8501-48ed-82d1-f8a3792227a4",
   "metadata": {
    "tags": []
   },
   "outputs": [],
   "source": [
    "# Pause to make sure agent is created\n",
    "time.sleep(30)\n",
    "# Now, we can configure and create an action group here:\n",
    "agent_action_group_response = bedrock_agent_client.create_agent_action_group(\n",
    "    agentId=agent_id,\n",
    "    agentVersion='DRAFT',\n",
    "    actionGroupExecutor={\n",
    "        'lambda': lambda_function['FunctionArn']\n",
    "    },\n",
    "    actionGroupName=agent_action_group_name,\n",
    "    functionSchema={\n",
    "        'functions': agent_functions\n",
    "    },\n",
    "    description=agent_action_group_description\n",
    ")"
   ]
  },
  {
   "cell_type": "code",
   "execution_count": 18,
   "id": "22feec4a-d3ec-48f6-9e33-e5a09f08701e",
   "metadata": {
    "tags": []
   },
   "outputs": [
    {
     "data": {
      "text/plain": [
       "{'ResponseMetadata': {'RequestId': '20ef3808-a0f2-466f-8115-d7aaa6d74fe7',\n",
       "  'HTTPStatusCode': 200,\n",
       "  'HTTPHeaders': {'date': 'Sun, 25 Aug 2024 23:03:53 GMT',\n",
       "   'content-type': 'application/json',\n",
       "   'content-length': '2208',\n",
       "   'connection': 'keep-alive',\n",
       "   'x-amzn-requestid': '20ef3808-a0f2-466f-8115-d7aaa6d74fe7',\n",
       "   'x-amz-apigw-id': 'dFm98FFCIAMEnLw=',\n",
       "   'x-amzn-trace-id': 'Root=1-66cbb858-7c87d1ad70cf6b8c760eaf66'},\n",
       "  'RetryAttempts': 0},\n",
       " 'agentActionGroup': {'actionGroupExecutor': {'lambda': 'arn:aws:lambda:us-east-1:738012852934:function:monkeypox-impact-monitor-us-east-1-738012852934'},\n",
       "  'actionGroupId': 'PTQPY8PTBD',\n",
       "  'actionGroupName': 'MonkeypoxImpactActionGroup',\n",
       "  'actionGroupState': 'ENABLED',\n",
       "  'agentId': 'VNSFCLRGBB',\n",
       "  'agentVersion': 'DRAFT',\n",
       "  'createdAt': datetime.datetime(2024, 8, 25, 23, 3, 53, 124364, tzinfo=tzutc()),\n",
       "  'description': 'Actions for monitoring travel restrictions, performing sentiment analysis on tourism destinations, and validating the credibility of news sources to support travel insurance adjustments.',\n",
       "  'functionSchema': {'functions': [{'description': 'Monitors global travel restrictions related to monkeypox outbreaks and adjusts insurance coverage options.',\n",
       "     'name': 'monitor_travel_restrictions',\n",
       "     'parameters': {'alert_threshold': {'description': 'The number of news articles or alerts required to trigger an insurance policy adjustment.',\n",
       "       'required': True,\n",
       "       'type': 'integer'},\n",
       "      'coverage_type': {'description': 'The type of insurance coverage to adjust (e.g., medical, cancellation).',\n",
       "       'required': False,\n",
       "       'type': 'string'},\n",
       "      'region': {'description': 'The specific region or country to monitor for travel restrictions.',\n",
       "       'required': True,\n",
       "       'type': 'string'}},\n",
       "     'requireConfirmation': 'DISABLED'},\n",
       "    {'description': 'Performs sentiment analysis on news articles to assess public perception of tourism destinations in light of monkeypox outbreaks.',\n",
       "     'name': 'analyze_public_sentiment',\n",
       "     'parameters': {'destination': {'description': 'The tourist destination or region to analyze for sentiment.',\n",
       "       'required': True,\n",
       "       'type': 'string'},\n",
       "      'time_frame': {'description': 'The period over which to analyze sentiment (e.g., last week, last month).',\n",
       "       'required': False,\n",
       "       'type': 'string'}},\n",
       "     'requireConfirmation': 'DISABLED'},\n",
       "    {'description': 'Verifies the credibility and accuracy of news articles related to monkeypox outbreaks using multiple sources.',\n",
       "     'name': 'validate_news_sources',\n",
       "     'parameters': {'news_id': {'description': 'The unique identifier of the news article to validate.',\n",
       "       'required': True,\n",
       "       'type': 'string'},\n",
       "      'source_criteria': {'description': 'Criteria for source validation (e.g., governmental, medical).',\n",
       "       'required': False,\n",
       "       'type': 'string'}},\n",
       "     'requireConfirmation': 'DISABLED'}]},\n",
       "  'updatedAt': datetime.datetime(2024, 8, 25, 23, 3, 53, 124364, tzinfo=tzutc())}}"
      ]
     },
     "execution_count": 18,
     "metadata": {},
     "output_type": "execute_result"
    }
   ],
   "source": [
    "agent_action_group_response"
   ]
  },
  {
   "cell_type": "markdown",
   "id": "751873ee-631b-437d-af97-cb86bd8a0890",
   "metadata": {},
   "source": [
    "## Allowing Agent to invoke Action Group Lambda\n",
    "Before using the action group, we need to allow the agent to invoke the lambda function associated with the action group. This is done via resource-based policy. Let's add the resource-based policy to the lambda function created"
   ]
  },
  {
   "cell_type": "code",
   "execution_count": 13,
   "id": "c739e041-9ea0-4eef-8151-d206e2fd9e37",
   "metadata": {
    "tags": []
   },
   "outputs": [],
   "source": [
    "# Create allow invoke permission on lambda\n",
    "lambda_function_name=\"factored-hackaton-2024-unlock-bedrock-lambda\"\n",
    "response = lambda_client.add_permission(\n",
    "    FunctionName=lambda_function_name,\n",
    "    StatementId='allow_bedrock',\n",
    "    Action='lambda:InvokeFunction',\n",
    "    Principal='bedrock.amazonaws.com',\n",
    "    SourceArn=f\"arn:aws:bedrock:{region}:{account_id}:agent/{agent_id}\",\n",
    ")\n"
   ]
  },
  {
   "cell_type": "code",
   "execution_count": 14,
   "id": "a5cdfb72-e41c-4d78-ab12-ce8394574c17",
   "metadata": {
    "tags": []
   },
   "outputs": [
    {
     "data": {
      "text/plain": [
       "{'ResponseMetadata': {'RequestId': '1f4fa8cd-07cd-4151-a3f2-bc1dd4a00127',\n",
       "  'HTTPStatusCode': 201,\n",
       "  'HTTPHeaders': {'date': 'Mon, 26 Aug 2024 02:10:54 GMT',\n",
       "   'content-type': 'application/json',\n",
       "   'content-length': '372',\n",
       "   'connection': 'keep-alive',\n",
       "   'x-amzn-requestid': '1f4fa8cd-07cd-4151-a3f2-bc1dd4a00127'},\n",
       "  'RetryAttempts': 0},\n",
       " 'Statement': '{\"Sid\":\"allow_bedrock\",\"Effect\":\"Allow\",\"Principal\":{\"Service\":\"bedrock.amazonaws.com\"},\"Action\":\"lambda:InvokeFunction\",\"Resource\":\"arn:aws:lambda:us-east-1:738012852934:function:factored-hackaton-2024-unlock-bedrock-lambda\",\"Condition\":{\"ArnLike\":{\"AWS:SourceArn\":\"arn:aws:bedrock:us-east-1:738012852934:agent/VNSFCLRGBB\"}}}'}"
      ]
     },
     "execution_count": 14,
     "metadata": {},
     "output_type": "execute_result"
    }
   ],
   "source": [
    "response"
   ]
  },
  {
   "cell_type": "markdown",
   "id": "2b3bab10-e5dc-4138-a9ff-76b2ff2ff9e6",
   "metadata": {},
   "source": [
    "## Preparing Agent\n",
    "\n",
    "Let's create a DRAFT version of the agent that can be used for internal testing.\n"
   ]
  },
  {
   "cell_type": "code",
   "execution_count": 15,
   "id": "e7094e7f-915a-4396-8d98-c3bfee3ccf1e",
   "metadata": {
    "tags": []
   },
   "outputs": [
    {
     "name": "stdout",
     "output_type": "stream",
     "text": [
      "{'ResponseMetadata': {'RequestId': 'cd223d24-bf00-4b6f-90e9-d3ecd498d6f1', 'HTTPStatusCode': 202, 'HTTPHeaders': {'date': 'Mon, 26 Aug 2024 02:11:07 GMT', 'content-type': 'application/json', 'content-length': '119', 'connection': 'keep-alive', 'x-amzn-requestid': 'cd223d24-bf00-4b6f-90e9-d3ecd498d6f1', 'x-amz-apigw-id': 'dGCZYHVRIAMECKw=', 'x-amzn-trace-id': 'Root=1-66cbe43b-0fc5dfd01f9c4e634c36713c'}, 'RetryAttempts': 0}, 'agentId': 'VNSFCLRGBB', 'agentStatus': 'PREPARING', 'agentVersion': 'DRAFT', 'preparedAt': datetime.datetime(2024, 8, 26, 2, 11, 7, 864339, tzinfo=tzutc())}\n"
     ]
    }
   ],
   "source": [
    "agent_id = \"VNSFCLRGBB\"\n",
    "response = bedrock_agent_client.prepare_agent(\n",
    "    agentId=agent_id\n",
    ")\n",
    "print(response)"
   ]
  },
  {
   "cell_type": "code",
   "execution_count": 16,
   "id": "aae1ff1a",
   "metadata": {},
   "outputs": [],
   "source": [
    "# Pause to make sure agent is prepared\n",
    "time.sleep(30)\n",
    "\n",
    "# Extract the agentAliasId from the response\n",
    "agent_alias_id = \"TSTALIASID\""
   ]
  },
  {
   "cell_type": "markdown",
   "id": "80f2be3a-007e-4278-b8cc-4ffd7222234b",
   "metadata": {},
   "source": [
    "## Invoke Agent\n",
    "\n",
    "Now that we've created the agent, let's use the `bedrock-agent-runtime` client to invoke this agent and perform some tasks."
   ]
  },
  {
   "cell_type": "code",
   "execution_count": 17,
   "id": "22bfea60-67fd-43ea-b7a1-7ca5668cb36f",
   "metadata": {
    "tags": []
   },
   "outputs": [],
   "source": [
    "def invokeAgent(inputText: str):\n",
    "\n",
    "    session_id:str = str(uuid.uuid1())\n",
    "    enable_trace:bool = False\n",
    "    end_session:bool = False\n",
    "\n",
    "    # invoke the agent API\n",
    "    agentResponse = bedrock_agent_runtime_client.invoke_agent(\n",
    "        inputText=inputText,\n",
    "        agentId=agent_id,\n",
    "        agentAliasId=agent_alias_id, \n",
    "        sessionId=session_id,\n",
    "        enableTrace=enable_trace, \n",
    "        endSession= end_session\n",
    "    )\n",
    "\n",
    "    logger.info(pprint.pprint(agentResponse))\n",
    "\n",
    "\n",
    "    # %%time\n",
    "    event_stream = agentResponse['completion']\n",
    "    try:\n",
    "        for event in event_stream:        \n",
    "            if 'chunk' in event:\n",
    "                data = event['chunk']['bytes']\n",
    "                logger.info(f\"Final answer ->\\n{data.decode('utf8')}\")\n",
    "                agent_answer = data.decode('utf8')\n",
    "                end_event_received = True\n",
    "                # End event indicates that the request finished successfully\n",
    "            elif 'trace' in event:\n",
    "                logger.info(json.dumps(event['trace'], indent=2))\n",
    "            else:\n",
    "                raise Exception(\"unexpected event.\", event)\n",
    "    except Exception as e:\n",
    "        raise Exception(\"unexpected event.\", e)\n",
    "\n",
    "\n",
    "    # And here is the response if you just want to see agent's reply\n",
    "    return agent_answer"
   ]
  },
  {
   "cell_type": "code",
   "execution_count": 23,
   "id": "8899ae89",
   "metadata": {},
   "outputs": [
    {
     "name": "stderr",
     "output_type": "stream",
     "text": [
      "[2024-08-25 21:54:18,679] p53017 {954796933.py:17} INFO - None\n"
     ]
    },
    {
     "name": "stdout",
     "output_type": "stream",
     "text": [
      "{'ResponseMetadata': {'HTTPHeaders': {'connection': 'keep-alive',\n",
      "                                      'content-type': 'application/json',\n",
      "                                      'date': 'Mon, 26 Aug 2024 02:54:18 GMT',\n",
      "                                      'transfer-encoding': 'chunked',\n",
      "                                      'x-amz-bedrock-agent-session-id': '7cb8bdc6-6356-11ef-92d6-eaa40401cf87',\n",
      "                                      'x-amzn-bedrock-agent-content-type': 'application/json',\n",
      "                                      'x-amzn-requestid': '4854d6b4-96bc-49c4-a3ec-6bbebbd5cd33'},\n",
      "                      'HTTPStatusCode': 200,\n",
      "                      'RequestId': '4854d6b4-96bc-49c4-a3ec-6bbebbd5cd33',\n",
      "                      'RetryAttempts': 0},\n",
      " 'completion': <botocore.eventstream.EventStream object at 0x1217d0280>,\n",
      " 'contentType': 'application/json',\n",
      " 'sessionId': '7cb8bdc6-6356-11ef-92d6-eaa40401cf87'}\n"
     ]
    },
    {
     "ename": "Exception",
     "evalue": "('unexpected event.', EventStreamError(\"An error occurred (dependencyFailedException) when calling the InvokeAgent operation: Your request couldn't be completed. Lambda function arn:aws:lambda:us-east-1:738012852934:function:factored-hackaton-2024-unlock-bedrock-lambda encountered a problem while processing request.The error message from the Lambda function is Unhandled. Check the Lambda function log for error details, then try your request again after fixing the error.\"))",
     "output_type": "error",
     "traceback": [
      "\u001b[0;31m---------------------------------------------------------------------------\u001b[0m",
      "\u001b[0;31mEventStreamError\u001b[0m                          Traceback (most recent call last)",
      "Cell \u001b[0;32mIn[17], line 23\u001b[0m, in \u001b[0;36minvokeAgent\u001b[0;34m(inputText)\u001b[0m\n\u001b[1;32m     22\u001b[0m \u001b[38;5;28;01mtry\u001b[39;00m:\n\u001b[0;32m---> 23\u001b[0m     \u001b[38;5;28;01mfor\u001b[39;00m event \u001b[38;5;129;01min\u001b[39;00m event_stream:        \n\u001b[1;32m     24\u001b[0m         \u001b[38;5;28;01mif\u001b[39;00m \u001b[38;5;124m'\u001b[39m\u001b[38;5;124mchunk\u001b[39m\u001b[38;5;124m'\u001b[39m \u001b[38;5;129;01min\u001b[39;00m event:\n",
      "File \u001b[0;32m~/Documents/github/factored-datathon-2024-unlock/bedrock/venv/lib/python3.9/site-packages/botocore/eventstream.py:592\u001b[0m, in \u001b[0;36mEventStream.__iter__\u001b[0;34m(self)\u001b[0m\n\u001b[1;32m    591\u001b[0m \u001b[38;5;28;01mfor\u001b[39;00m event \u001b[38;5;129;01min\u001b[39;00m \u001b[38;5;28mself\u001b[39m\u001b[38;5;241m.\u001b[39m_event_generator:\n\u001b[0;32m--> 592\u001b[0m     parsed_event \u001b[38;5;241m=\u001b[39m \u001b[38;5;28;43mself\u001b[39;49m\u001b[38;5;241;43m.\u001b[39;49m\u001b[43m_parse_event\u001b[49m\u001b[43m(\u001b[49m\u001b[43mevent\u001b[49m\u001b[43m)\u001b[49m\n\u001b[1;32m    593\u001b[0m     \u001b[38;5;28;01mif\u001b[39;00m parsed_event:\n",
      "File \u001b[0;32m~/Documents/github/factored-datathon-2024-unlock/bedrock/venv/lib/python3.9/site-packages/botocore/eventstream.py:608\u001b[0m, in \u001b[0;36mEventStream._parse_event\u001b[0;34m(self, event)\u001b[0m\n\u001b[1;32m    607\u001b[0m \u001b[38;5;28;01melse\u001b[39;00m:\n\u001b[0;32m--> 608\u001b[0m     \u001b[38;5;28;01mraise\u001b[39;00m EventStreamError(parsed_response, \u001b[38;5;28mself\u001b[39m\u001b[38;5;241m.\u001b[39m_operation_name)\n",
      "\u001b[0;31mEventStreamError\u001b[0m: An error occurred (dependencyFailedException) when calling the InvokeAgent operation: Your request couldn't be completed. Lambda function arn:aws:lambda:us-east-1:738012852934:function:factored-hackaton-2024-unlock-bedrock-lambda encountered a problem while processing request.The error message from the Lambda function is Unhandled. Check the Lambda function log for error details, then try your request again after fixing the error.",
      "\nDuring handling of the above exception, another exception occurred:\n",
      "\u001b[0;31mException\u001b[0m                                 Traceback (most recent call last)",
      "Cell \u001b[0;32mIn[23], line 3\u001b[0m\n\u001b[1;32m      1\u001b[0m \u001b[38;5;66;03m#Test the agent,\u001b[39;00m\n\u001b[0;32m----> 3\u001b[0m \u001b[43minvokeAgent\u001b[49m\u001b[43m(\u001b[49m\u001b[38;5;124;43m\"\u001b[39;49m\u001b[38;5;124;43mI want to monitor travel restrictions in Nigeria?\u001b[39;49m\u001b[38;5;124;43m\"\u001b[39;49m\u001b[43m)\u001b[49m\n",
      "Cell \u001b[0;32mIn[17], line 35\u001b[0m, in \u001b[0;36minvokeAgent\u001b[0;34m(inputText)\u001b[0m\n\u001b[1;32m     33\u001b[0m             \u001b[38;5;28;01mraise\u001b[39;00m \u001b[38;5;167;01mException\u001b[39;00m(\u001b[38;5;124m\"\u001b[39m\u001b[38;5;124munexpected event.\u001b[39m\u001b[38;5;124m\"\u001b[39m, event)\n\u001b[1;32m     34\u001b[0m \u001b[38;5;28;01mexcept\u001b[39;00m \u001b[38;5;167;01mException\u001b[39;00m \u001b[38;5;28;01mas\u001b[39;00m e:\n\u001b[0;32m---> 35\u001b[0m     \u001b[38;5;28;01mraise\u001b[39;00m \u001b[38;5;167;01mException\u001b[39;00m(\u001b[38;5;124m\"\u001b[39m\u001b[38;5;124munexpected event.\u001b[39m\u001b[38;5;124m\"\u001b[39m, e)\n\u001b[1;32m     38\u001b[0m \u001b[38;5;66;03m# And here is the response if you just want to see agent's reply\u001b[39;00m\n\u001b[1;32m     39\u001b[0m \u001b[38;5;28;01mreturn\u001b[39;00m agent_answer\n",
      "\u001b[0;31mException\u001b[0m: ('unexpected event.', EventStreamError(\"An error occurred (dependencyFailedException) when calling the InvokeAgent operation: Your request couldn't be completed. Lambda function arn:aws:lambda:us-east-1:738012852934:function:factored-hackaton-2024-unlock-bedrock-lambda encountered a problem while processing request.The error message from the Lambda function is Unhandled. Check the Lambda function log for error details, then try your request again after fixing the error.\"))"
     ]
    }
   ],
   "source": [
    "#Test the agent,\n",
    "\n",
    "invokeAgent(\"I want to monitor travel restrictions in Nigeria for monkey pox?\")"
   ]
  },
  {
   "cell_type": "code",
   "execution_count": null,
   "id": "267258b1",
   "metadata": {},
   "outputs": [],
   "source": []
  }
 ],
 "metadata": {
  "availableInstances": [
   {
    "_defaultOrder": 0,
    "_isFastLaunch": true,
    "category": "General purpose",
    "gpuNum": 0,
    "hideHardwareSpecs": false,
    "memoryGiB": 4,
    "name": "ml.t3.medium",
    "vcpuNum": 2
   },
   {
    "_defaultOrder": 1,
    "_isFastLaunch": false,
    "category": "General purpose",
    "gpuNum": 0,
    "hideHardwareSpecs": false,
    "memoryGiB": 8,
    "name": "ml.t3.large",
    "vcpuNum": 2
   },
   {
    "_defaultOrder": 2,
    "_isFastLaunch": false,
    "category": "General purpose",
    "gpuNum": 0,
    "hideHardwareSpecs": false,
    "memoryGiB": 16,
    "name": "ml.t3.xlarge",
    "vcpuNum": 4
   },
   {
    "_defaultOrder": 3,
    "_isFastLaunch": false,
    "category": "General purpose",
    "gpuNum": 0,
    "hideHardwareSpecs": false,
    "memoryGiB": 32,
    "name": "ml.t3.2xlarge",
    "vcpuNum": 8
   },
   {
    "_defaultOrder": 4,
    "_isFastLaunch": true,
    "category": "General purpose",
    "gpuNum": 0,
    "hideHardwareSpecs": false,
    "memoryGiB": 8,
    "name": "ml.m5.large",
    "vcpuNum": 2
   },
   {
    "_defaultOrder": 5,
    "_isFastLaunch": false,
    "category": "General purpose",
    "gpuNum": 0,
    "hideHardwareSpecs": false,
    "memoryGiB": 16,
    "name": "ml.m5.xlarge",
    "vcpuNum": 4
   },
   {
    "_defaultOrder": 6,
    "_isFastLaunch": false,
    "category": "General purpose",
    "gpuNum": 0,
    "hideHardwareSpecs": false,
    "memoryGiB": 32,
    "name": "ml.m5.2xlarge",
    "vcpuNum": 8
   },
   {
    "_defaultOrder": 7,
    "_isFastLaunch": false,
    "category": "General purpose",
    "gpuNum": 0,
    "hideHardwareSpecs": false,
    "memoryGiB": 64,
    "name": "ml.m5.4xlarge",
    "vcpuNum": 16
   },
   {
    "_defaultOrder": 8,
    "_isFastLaunch": false,
    "category": "General purpose",
    "gpuNum": 0,
    "hideHardwareSpecs": false,
    "memoryGiB": 128,
    "name": "ml.m5.8xlarge",
    "vcpuNum": 32
   },
   {
    "_defaultOrder": 9,
    "_isFastLaunch": false,
    "category": "General purpose",
    "gpuNum": 0,
    "hideHardwareSpecs": false,
    "memoryGiB": 192,
    "name": "ml.m5.12xlarge",
    "vcpuNum": 48
   },
   {
    "_defaultOrder": 10,
    "_isFastLaunch": false,
    "category": "General purpose",
    "gpuNum": 0,
    "hideHardwareSpecs": false,
    "memoryGiB": 256,
    "name": "ml.m5.16xlarge",
    "vcpuNum": 64
   },
   {
    "_defaultOrder": 11,
    "_isFastLaunch": false,
    "category": "General purpose",
    "gpuNum": 0,
    "hideHardwareSpecs": false,
    "memoryGiB": 384,
    "name": "ml.m5.24xlarge",
    "vcpuNum": 96
   },
   {
    "_defaultOrder": 12,
    "_isFastLaunch": false,
    "category": "General purpose",
    "gpuNum": 0,
    "hideHardwareSpecs": false,
    "memoryGiB": 8,
    "name": "ml.m5d.large",
    "vcpuNum": 2
   },
   {
    "_defaultOrder": 13,
    "_isFastLaunch": false,
    "category": "General purpose",
    "gpuNum": 0,
    "hideHardwareSpecs": false,
    "memoryGiB": 16,
    "name": "ml.m5d.xlarge",
    "vcpuNum": 4
   },
   {
    "_defaultOrder": 14,
    "_isFastLaunch": false,
    "category": "General purpose",
    "gpuNum": 0,
    "hideHardwareSpecs": false,
    "memoryGiB": 32,
    "name": "ml.m5d.2xlarge",
    "vcpuNum": 8
   },
   {
    "_defaultOrder": 15,
    "_isFastLaunch": false,
    "category": "General purpose",
    "gpuNum": 0,
    "hideHardwareSpecs": false,
    "memoryGiB": 64,
    "name": "ml.m5d.4xlarge",
    "vcpuNum": 16
   },
   {
    "_defaultOrder": 16,
    "_isFastLaunch": false,
    "category": "General purpose",
    "gpuNum": 0,
    "hideHardwareSpecs": false,
    "memoryGiB": 128,
    "name": "ml.m5d.8xlarge",
    "vcpuNum": 32
   },
   {
    "_defaultOrder": 17,
    "_isFastLaunch": false,
    "category": "General purpose",
    "gpuNum": 0,
    "hideHardwareSpecs": false,
    "memoryGiB": 192,
    "name": "ml.m5d.12xlarge",
    "vcpuNum": 48
   },
   {
    "_defaultOrder": 18,
    "_isFastLaunch": false,
    "category": "General purpose",
    "gpuNum": 0,
    "hideHardwareSpecs": false,
    "memoryGiB": 256,
    "name": "ml.m5d.16xlarge",
    "vcpuNum": 64
   },
   {
    "_defaultOrder": 19,
    "_isFastLaunch": false,
    "category": "General purpose",
    "gpuNum": 0,
    "hideHardwareSpecs": false,
    "memoryGiB": 384,
    "name": "ml.m5d.24xlarge",
    "vcpuNum": 96
   },
   {
    "_defaultOrder": 20,
    "_isFastLaunch": false,
    "category": "General purpose",
    "gpuNum": 0,
    "hideHardwareSpecs": true,
    "memoryGiB": 0,
    "name": "ml.geospatial.interactive",
    "supportedImageNames": [
     "sagemaker-geospatial-v1-0"
    ],
    "vcpuNum": 0
   },
   {
    "_defaultOrder": 21,
    "_isFastLaunch": true,
    "category": "Compute optimized",
    "gpuNum": 0,
    "hideHardwareSpecs": false,
    "memoryGiB": 4,
    "name": "ml.c5.large",
    "vcpuNum": 2
   },
   {
    "_defaultOrder": 22,
    "_isFastLaunch": false,
    "category": "Compute optimized",
    "gpuNum": 0,
    "hideHardwareSpecs": false,
    "memoryGiB": 8,
    "name": "ml.c5.xlarge",
    "vcpuNum": 4
   },
   {
    "_defaultOrder": 23,
    "_isFastLaunch": false,
    "category": "Compute optimized",
    "gpuNum": 0,
    "hideHardwareSpecs": false,
    "memoryGiB": 16,
    "name": "ml.c5.2xlarge",
    "vcpuNum": 8
   },
   {
    "_defaultOrder": 24,
    "_isFastLaunch": false,
    "category": "Compute optimized",
    "gpuNum": 0,
    "hideHardwareSpecs": false,
    "memoryGiB": 32,
    "name": "ml.c5.4xlarge",
    "vcpuNum": 16
   },
   {
    "_defaultOrder": 25,
    "_isFastLaunch": false,
    "category": "Compute optimized",
    "gpuNum": 0,
    "hideHardwareSpecs": false,
    "memoryGiB": 72,
    "name": "ml.c5.9xlarge",
    "vcpuNum": 36
   },
   {
    "_defaultOrder": 26,
    "_isFastLaunch": false,
    "category": "Compute optimized",
    "gpuNum": 0,
    "hideHardwareSpecs": false,
    "memoryGiB": 96,
    "name": "ml.c5.12xlarge",
    "vcpuNum": 48
   },
   {
    "_defaultOrder": 27,
    "_isFastLaunch": false,
    "category": "Compute optimized",
    "gpuNum": 0,
    "hideHardwareSpecs": false,
    "memoryGiB": 144,
    "name": "ml.c5.18xlarge",
    "vcpuNum": 72
   },
   {
    "_defaultOrder": 28,
    "_isFastLaunch": false,
    "category": "Compute optimized",
    "gpuNum": 0,
    "hideHardwareSpecs": false,
    "memoryGiB": 192,
    "name": "ml.c5.24xlarge",
    "vcpuNum": 96
   },
   {
    "_defaultOrder": 29,
    "_isFastLaunch": true,
    "category": "Accelerated computing",
    "gpuNum": 1,
    "hideHardwareSpecs": false,
    "memoryGiB": 16,
    "name": "ml.g4dn.xlarge",
    "vcpuNum": 4
   },
   {
    "_defaultOrder": 30,
    "_isFastLaunch": false,
    "category": "Accelerated computing",
    "gpuNum": 1,
    "hideHardwareSpecs": false,
    "memoryGiB": 32,
    "name": "ml.g4dn.2xlarge",
    "vcpuNum": 8
   },
   {
    "_defaultOrder": 31,
    "_isFastLaunch": false,
    "category": "Accelerated computing",
    "gpuNum": 1,
    "hideHardwareSpecs": false,
    "memoryGiB": 64,
    "name": "ml.g4dn.4xlarge",
    "vcpuNum": 16
   },
   {
    "_defaultOrder": 32,
    "_isFastLaunch": false,
    "category": "Accelerated computing",
    "gpuNum": 1,
    "hideHardwareSpecs": false,
    "memoryGiB": 128,
    "name": "ml.g4dn.8xlarge",
    "vcpuNum": 32
   },
   {
    "_defaultOrder": 33,
    "_isFastLaunch": false,
    "category": "Accelerated computing",
    "gpuNum": 4,
    "hideHardwareSpecs": false,
    "memoryGiB": 192,
    "name": "ml.g4dn.12xlarge",
    "vcpuNum": 48
   },
   {
    "_defaultOrder": 34,
    "_isFastLaunch": false,
    "category": "Accelerated computing",
    "gpuNum": 1,
    "hideHardwareSpecs": false,
    "memoryGiB": 256,
    "name": "ml.g4dn.16xlarge",
    "vcpuNum": 64
   },
   {
    "_defaultOrder": 35,
    "_isFastLaunch": false,
    "category": "Accelerated computing",
    "gpuNum": 1,
    "hideHardwareSpecs": false,
    "memoryGiB": 61,
    "name": "ml.p3.2xlarge",
    "vcpuNum": 8
   },
   {
    "_defaultOrder": 36,
    "_isFastLaunch": false,
    "category": "Accelerated computing",
    "gpuNum": 4,
    "hideHardwareSpecs": false,
    "memoryGiB": 244,
    "name": "ml.p3.8xlarge",
    "vcpuNum": 32
   },
   {
    "_defaultOrder": 37,
    "_isFastLaunch": false,
    "category": "Accelerated computing",
    "gpuNum": 8,
    "hideHardwareSpecs": false,
    "memoryGiB": 488,
    "name": "ml.p3.16xlarge",
    "vcpuNum": 64
   },
   {
    "_defaultOrder": 38,
    "_isFastLaunch": false,
    "category": "Accelerated computing",
    "gpuNum": 8,
    "hideHardwareSpecs": false,
    "memoryGiB": 768,
    "name": "ml.p3dn.24xlarge",
    "vcpuNum": 96
   },
   {
    "_defaultOrder": 39,
    "_isFastLaunch": false,
    "category": "Memory Optimized",
    "gpuNum": 0,
    "hideHardwareSpecs": false,
    "memoryGiB": 16,
    "name": "ml.r5.large",
    "vcpuNum": 2
   },
   {
    "_defaultOrder": 40,
    "_isFastLaunch": false,
    "category": "Memory Optimized",
    "gpuNum": 0,
    "hideHardwareSpecs": false,
    "memoryGiB": 32,
    "name": "ml.r5.xlarge",
    "vcpuNum": 4
   },
   {
    "_defaultOrder": 41,
    "_isFastLaunch": false,
    "category": "Memory Optimized",
    "gpuNum": 0,
    "hideHardwareSpecs": false,
    "memoryGiB": 64,
    "name": "ml.r5.2xlarge",
    "vcpuNum": 8
   },
   {
    "_defaultOrder": 42,
    "_isFastLaunch": false,
    "category": "Memory Optimized",
    "gpuNum": 0,
    "hideHardwareSpecs": false,
    "memoryGiB": 128,
    "name": "ml.r5.4xlarge",
    "vcpuNum": 16
   },
   {
    "_defaultOrder": 43,
    "_isFastLaunch": false,
    "category": "Memory Optimized",
    "gpuNum": 0,
    "hideHardwareSpecs": false,
    "memoryGiB": 256,
    "name": "ml.r5.8xlarge",
    "vcpuNum": 32
   },
   {
    "_defaultOrder": 44,
    "_isFastLaunch": false,
    "category": "Memory Optimized",
    "gpuNum": 0,
    "hideHardwareSpecs": false,
    "memoryGiB": 384,
    "name": "ml.r5.12xlarge",
    "vcpuNum": 48
   },
   {
    "_defaultOrder": 45,
    "_isFastLaunch": false,
    "category": "Memory Optimized",
    "gpuNum": 0,
    "hideHardwareSpecs": false,
    "memoryGiB": 512,
    "name": "ml.r5.16xlarge",
    "vcpuNum": 64
   },
   {
    "_defaultOrder": 46,
    "_isFastLaunch": false,
    "category": "Memory Optimized",
    "gpuNum": 0,
    "hideHardwareSpecs": false,
    "memoryGiB": 768,
    "name": "ml.r5.24xlarge",
    "vcpuNum": 96
   },
   {
    "_defaultOrder": 47,
    "_isFastLaunch": false,
    "category": "Accelerated computing",
    "gpuNum": 1,
    "hideHardwareSpecs": false,
    "memoryGiB": 16,
    "name": "ml.g5.xlarge",
    "vcpuNum": 4
   },
   {
    "_defaultOrder": 48,
    "_isFastLaunch": false,
    "category": "Accelerated computing",
    "gpuNum": 1,
    "hideHardwareSpecs": false,
    "memoryGiB": 32,
    "name": "ml.g5.2xlarge",
    "vcpuNum": 8
   },
   {
    "_defaultOrder": 49,
    "_isFastLaunch": false,
    "category": "Accelerated computing",
    "gpuNum": 1,
    "hideHardwareSpecs": false,
    "memoryGiB": 64,
    "name": "ml.g5.4xlarge",
    "vcpuNum": 16
   },
   {
    "_defaultOrder": 50,
    "_isFastLaunch": false,
    "category": "Accelerated computing",
    "gpuNum": 1,
    "hideHardwareSpecs": false,
    "memoryGiB": 128,
    "name": "ml.g5.8xlarge",
    "vcpuNum": 32
   },
   {
    "_defaultOrder": 51,
    "_isFastLaunch": false,
    "category": "Accelerated computing",
    "gpuNum": 1,
    "hideHardwareSpecs": false,
    "memoryGiB": 256,
    "name": "ml.g5.16xlarge",
    "vcpuNum": 64
   },
   {
    "_defaultOrder": 52,
    "_isFastLaunch": false,
    "category": "Accelerated computing",
    "gpuNum": 4,
    "hideHardwareSpecs": false,
    "memoryGiB": 192,
    "name": "ml.g5.12xlarge",
    "vcpuNum": 48
   },
   {
    "_defaultOrder": 53,
    "_isFastLaunch": false,
    "category": "Accelerated computing",
    "gpuNum": 4,
    "hideHardwareSpecs": false,
    "memoryGiB": 384,
    "name": "ml.g5.24xlarge",
    "vcpuNum": 96
   },
   {
    "_defaultOrder": 54,
    "_isFastLaunch": false,
    "category": "Accelerated computing",
    "gpuNum": 8,
    "hideHardwareSpecs": false,
    "memoryGiB": 768,
    "name": "ml.g5.48xlarge",
    "vcpuNum": 192
   },
   {
    "_defaultOrder": 55,
    "_isFastLaunch": false,
    "category": "Accelerated computing",
    "gpuNum": 8,
    "hideHardwareSpecs": false,
    "memoryGiB": 1152,
    "name": "ml.p4d.24xlarge",
    "vcpuNum": 96
   },
   {
    "_defaultOrder": 56,
    "_isFastLaunch": false,
    "category": "Accelerated computing",
    "gpuNum": 8,
    "hideHardwareSpecs": false,
    "memoryGiB": 1152,
    "name": "ml.p4de.24xlarge",
    "vcpuNum": 96
   },
   {
    "_defaultOrder": 57,
    "_isFastLaunch": false,
    "category": "Accelerated computing",
    "gpuNum": 0,
    "hideHardwareSpecs": false,
    "memoryGiB": 32,
    "name": "ml.trn1.2xlarge",
    "vcpuNum": 8
   },
   {
    "_defaultOrder": 58,
    "_isFastLaunch": false,
    "category": "Accelerated computing",
    "gpuNum": 0,
    "hideHardwareSpecs": false,
    "memoryGiB": 512,
    "name": "ml.trn1.32xlarge",
    "vcpuNum": 128
   },
   {
    "_defaultOrder": 59,
    "_isFastLaunch": false,
    "category": "Accelerated computing",
    "gpuNum": 0,
    "hideHardwareSpecs": false,
    "memoryGiB": 512,
    "name": "ml.trn1n.32xlarge",
    "vcpuNum": 128
   }
  ],
  "instance_type": "ml.t3.medium",
  "kernelspec": {
   "display_name": "Python 3",
   "language": "python",
   "name": "python3"
  },
  "language_info": {
   "codemirror_mode": {
    "name": "ipython",
    "version": 3
   },
   "file_extension": ".py",
   "mimetype": "text/x-python",
   "name": "python",
   "nbconvert_exporter": "python",
   "pygments_lexer": "ipython3",
   "version": "3.9.6"
  }
 },
 "nbformat": 4,
 "nbformat_minor": 5
}

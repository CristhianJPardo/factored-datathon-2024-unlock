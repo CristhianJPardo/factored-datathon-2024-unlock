{
  "nbformat": 4,
  "nbformat_minor": 0,
  "metadata": {
    "colab": {
      "provenance": []
    },
    "kernelspec": {
      "name": "python3",
      "display_name": "Python 3"
    },
    "language_info": {
      "name": "python"
    }
  },
  "cells": [
    {
      "cell_type": "markdown",
      "source": [
        "# Download Data"
      ],
      "metadata": {
        "id": "lzvH_n82SRZV"
      }
    },
    {
      "cell_type": "code",
      "execution_count": 1,
      "metadata": {
        "id": "uSKvUflvLnyI",
        "colab": {
          "base_uri": "https://localhost:8080/"
        },
        "outputId": "9e1cd2eb-a876-48d6-8fcc-0615c1be7b79"
      },
      "outputs": [
        {
          "output_type": "stream",
          "name": "stdout",
          "text": [
            "\u001b[2K   \u001b[90m━━━━━━━━━━━━━━━━━━━━━━━━━━━━━━━━━━━━━━━━\u001b[0m \u001b[32m39.9/39.9 MB\u001b[0m \u001b[31m11.0 MB/s\u001b[0m eta \u001b[36m0:00:00\u001b[0m\n",
            "\u001b[2K   \u001b[90m━━━━━━━━━━━━━━━━━━━━━━━━━━━━━━━━━━━━━━━━\u001b[0m \u001b[32m72.7/72.7 MB\u001b[0m \u001b[31m6.6 MB/s\u001b[0m eta \u001b[36m0:00:00\u001b[0m\n",
            "\u001b[?25h\u001b[31mERROR: pip's dependency resolver does not currently take into account all the packages that are installed. This behaviour is the source of the following dependency conflicts.\n",
            "cudf-cu12 24.4.1 requires pyarrow<15.0.0a0,>=14.0.1, but you have pyarrow 17.0.0 which is incompatible.\n",
            "ibis-framework 8.0.0 requires pyarrow<16,>=2, but you have pyarrow 17.0.0 which is incompatible.\u001b[0m\u001b[31m\n",
            "\u001b[0m"
          ]
        }
      ],
      "source": [
        "!pip3 install delta-sharing --quiet"
      ]
    },
    {
      "cell_type": "code",
      "source": [
        "import delta_sharing\n",
        "import json\n",
        "import os\n",
        "from google.colab import userdata"
      ],
      "metadata": {
        "id": "ePxBR3vBL93a"
      },
      "execution_count": 2,
      "outputs": []
    },
    {
      "cell_type": "markdown",
      "source": [
        "Please be sure the credentials names are the same\n",
        "Tutorial:\n",
        "1. In colab go to Secretes and add the desire credentials\n",
        "\n",
        "More Info:\n",
        "[Info](https://medium.com/@parthdasawant/how-to-use-secrets-in-google-colab-450c38e3ec75)"
      ],
      "metadata": {
        "id": "7Zu5s4xi3DR8"
      }
    },
    {
      "cell_type": "code",
      "source": [
        "credentials = {\n",
        "\t\"shareCredentialsVersion\": 1,\n",
        "\t\"bearerToken\": userdata.get('bearer'),\n",
        "\t\"endpoint\": userdata.get('endpoint'),\n",
        "\t\"expirationTime\": \"2024-11-12T04:53:07.255Z\"\n",
        "}"
      ],
      "metadata": {
        "id": "R5breHdvN9t0"
      },
      "execution_count": 3,
      "outputs": []
    },
    {
      "cell_type": "code",
      "source": [
        "file_name = \"config.share\"\n",
        "\n",
        "# Write the dictionary to a JSON file in a single line\n",
        "with open(file_name, 'w') as json_file:\n",
        "    json.dump(credentials, json_file, separators=(',', ':'), ensure_ascii=False)\n",
        "\n",
        "print(f\"Dictionary saved as a single-line JSON in {file_name}\")"
      ],
      "metadata": {
        "colab": {
          "base_uri": "https://localhost:8080/"
        },
        "id": "dHBmEmKwOAcU",
        "outputId": "c5bd3140-3291-4ba5-e94f-1307e4b5d869"
      },
      "execution_count": 4,
      "outputs": [
        {
          "output_type": "stream",
          "name": "stdout",
          "text": [
            "Dictionary saved as a single-line JSON in config.share\n"
          ]
        }
      ]
    },
    {
      "cell_type": "code",
      "source": [
        "# Point to the profile file. It can be a file on the local file system or a file on a remote storage.\n",
        "profile_file = file_name\n",
        "\n",
        "# Create a SharingClient.\n",
        "client = delta_sharing.SharingClient(profile_file)\n",
        "\n",
        "# List all shared tables.\n",
        "client.list_all_tables()"
      ],
      "metadata": {
        "colab": {
          "base_uri": "https://localhost:8080/"
        },
        "id": "2zFyR5t5N9Dc",
        "outputId": "d9616276-e6a3-43d4-c6ee-3df7aa800175"
      },
      "execution_count": 5,
      "outputs": [
        {
          "output_type": "execute_result",
          "data": {
            "text/plain": [
              "[Table(name='events_1percent', share='unlock-share', schema='bronze'),\n",
              " Table(name='events', share='unlock-share', schema='bronze'),\n",
              " Table(name='events_001percent', share='unlock-share', schema='bronze'),\n",
              " Table(name='events_10percent', share='unlock-share', schema='bronze'),\n",
              " Table(name='events_01percent', share='unlock-share', schema='bronze')]"
            ]
          },
          "metadata": {},
          "execution_count": 5
        }
      ]
    },
    {
      "cell_type": "code",
      "source": [
        "# Create a url to access a shared table.\n",
        "# A table path is the profile file path following with `#` and the fully qualified name of a table\n",
        "# (`<share-name>.<schema-name>.<table-name>`).\n",
        "table_url = profile_file + \"#unlock-share.bronze.events_001percent\" # -> cambien el porcentaje de acuerdo a la lista de arriba"
      ],
      "metadata": {
        "id": "uufXXrd1MKAJ"
      },
      "execution_count": 6,
      "outputs": []
    },
    {
      "cell_type": "code",
      "source": [
        "# Load a table as a Pandas DataFrame. This can be used to process tables that can fit in the memory.\n",
        "df = delta_sharing.load_as_pandas(table_url)"
      ],
      "metadata": {
        "id": "Mcqq91IfPdqH"
      },
      "execution_count": 7,
      "outputs": []
    },
    {
      "cell_type": "code",
      "source": [
        "df.head(1)"
      ],
      "metadata": {
        "colab": {
          "base_uri": "https://localhost:8080/",
          "height": 165
        },
        "id": "vxfR2dDpNh1c",
        "outputId": "b121319e-8721-42ad-e6ec-5a27697bafe2"
      },
      "execution_count": null,
      "outputs": [
        {
          "output_type": "execute_result",
          "data": {
            "text/plain": [
              "  globaleventid   sqldate monthyear  year fractiondate actor1code  \\\n",
              "0    1120582762  20230813    202308  2023    2023.6110        USA   \n",
              "\n",
              "      actor1name actor1countrycode actor1knowngroupcode actor1ethniccode  ...  \\\n",
              "0  UNITED STATES               USA                 None             None  ...   \n",
              "\n",
              "  actor2geo_featureid actiongeo_type       actiongeo_fullname  \\\n",
              "0                None              2  Arkansas, United States   \n",
              "\n",
              "  actiongeo_countrycode actiongeo_adm1code actiongeo_lat actiongeo_long  \\\n",
              "0                    US               USAR       34.9513       -92.3809   \n",
              "\n",
              "  actiongeo_featureid dateadded  \\\n",
              "0                  AR  20230813   \n",
              "\n",
              "                                           sourceurl  \n",
              "0  https://www.eldoradonews.com/news/2023/aug/13/...  \n",
              "\n",
              "[1 rows x 58 columns]"
            ],
            "text/html": [
              "\n",
              "  <div id=\"df-c9cefb2c-e606-4127-91ba-59f59d2b61c3\" class=\"colab-df-container\">\n",
              "    <div>\n",
              "<style scoped>\n",
              "    .dataframe tbody tr th:only-of-type {\n",
              "        vertical-align: middle;\n",
              "    }\n",
              "\n",
              "    .dataframe tbody tr th {\n",
              "        vertical-align: top;\n",
              "    }\n",
              "\n",
              "    .dataframe thead th {\n",
              "        text-align: right;\n",
              "    }\n",
              "</style>\n",
              "<table border=\"1\" class=\"dataframe\">\n",
              "  <thead>\n",
              "    <tr style=\"text-align: right;\">\n",
              "      <th></th>\n",
              "      <th>globaleventid</th>\n",
              "      <th>sqldate</th>\n",
              "      <th>monthyear</th>\n",
              "      <th>year</th>\n",
              "      <th>fractiondate</th>\n",
              "      <th>actor1code</th>\n",
              "      <th>actor1name</th>\n",
              "      <th>actor1countrycode</th>\n",
              "      <th>actor1knowngroupcode</th>\n",
              "      <th>actor1ethniccode</th>\n",
              "      <th>...</th>\n",
              "      <th>actor2geo_featureid</th>\n",
              "      <th>actiongeo_type</th>\n",
              "      <th>actiongeo_fullname</th>\n",
              "      <th>actiongeo_countrycode</th>\n",
              "      <th>actiongeo_adm1code</th>\n",
              "      <th>actiongeo_lat</th>\n",
              "      <th>actiongeo_long</th>\n",
              "      <th>actiongeo_featureid</th>\n",
              "      <th>dateadded</th>\n",
              "      <th>sourceurl</th>\n",
              "    </tr>\n",
              "  </thead>\n",
              "  <tbody>\n",
              "    <tr>\n",
              "      <th>0</th>\n",
              "      <td>1120582762</td>\n",
              "      <td>20230813</td>\n",
              "      <td>202308</td>\n",
              "      <td>2023</td>\n",
              "      <td>2023.6110</td>\n",
              "      <td>USA</td>\n",
              "      <td>UNITED STATES</td>\n",
              "      <td>USA</td>\n",
              "      <td>None</td>\n",
              "      <td>None</td>\n",
              "      <td>...</td>\n",
              "      <td>None</td>\n",
              "      <td>2</td>\n",
              "      <td>Arkansas, United States</td>\n",
              "      <td>US</td>\n",
              "      <td>USAR</td>\n",
              "      <td>34.9513</td>\n",
              "      <td>-92.3809</td>\n",
              "      <td>AR</td>\n",
              "      <td>20230813</td>\n",
              "      <td>https://www.eldoradonews.com/news/2023/aug/13/...</td>\n",
              "    </tr>\n",
              "  </tbody>\n",
              "</table>\n",
              "<p>1 rows × 58 columns</p>\n",
              "</div>\n",
              "    <div class=\"colab-df-buttons\">\n",
              "\n",
              "  <div class=\"colab-df-container\">\n",
              "    <button class=\"colab-df-convert\" onclick=\"convertToInteractive('df-c9cefb2c-e606-4127-91ba-59f59d2b61c3')\"\n",
              "            title=\"Convert this dataframe to an interactive table.\"\n",
              "            style=\"display:none;\">\n",
              "\n",
              "  <svg xmlns=\"http://www.w3.org/2000/svg\" height=\"24px\" viewBox=\"0 -960 960 960\">\n",
              "    <path d=\"M120-120v-720h720v720H120Zm60-500h600v-160H180v160Zm220 220h160v-160H400v160Zm0 220h160v-160H400v160ZM180-400h160v-160H180v160Zm440 0h160v-160H620v160ZM180-180h160v-160H180v160Zm440 0h160v-160H620v160Z\"/>\n",
              "  </svg>\n",
              "    </button>\n",
              "\n",
              "  <style>\n",
              "    .colab-df-container {\n",
              "      display:flex;\n",
              "      gap: 12px;\n",
              "    }\n",
              "\n",
              "    .colab-df-convert {\n",
              "      background-color: #E8F0FE;\n",
              "      border: none;\n",
              "      border-radius: 50%;\n",
              "      cursor: pointer;\n",
              "      display: none;\n",
              "      fill: #1967D2;\n",
              "      height: 32px;\n",
              "      padding: 0 0 0 0;\n",
              "      width: 32px;\n",
              "    }\n",
              "\n",
              "    .colab-df-convert:hover {\n",
              "      background-color: #E2EBFA;\n",
              "      box-shadow: 0px 1px 2px rgba(60, 64, 67, 0.3), 0px 1px 3px 1px rgba(60, 64, 67, 0.15);\n",
              "      fill: #174EA6;\n",
              "    }\n",
              "\n",
              "    .colab-df-buttons div {\n",
              "      margin-bottom: 4px;\n",
              "    }\n",
              "\n",
              "    [theme=dark] .colab-df-convert {\n",
              "      background-color: #3B4455;\n",
              "      fill: #D2E3FC;\n",
              "    }\n",
              "\n",
              "    [theme=dark] .colab-df-convert:hover {\n",
              "      background-color: #434B5C;\n",
              "      box-shadow: 0px 1px 3px 1px rgba(0, 0, 0, 0.15);\n",
              "      filter: drop-shadow(0px 1px 2px rgba(0, 0, 0, 0.3));\n",
              "      fill: #FFFFFF;\n",
              "    }\n",
              "  </style>\n",
              "\n",
              "    <script>\n",
              "      const buttonEl =\n",
              "        document.querySelector('#df-c9cefb2c-e606-4127-91ba-59f59d2b61c3 button.colab-df-convert');\n",
              "      buttonEl.style.display =\n",
              "        google.colab.kernel.accessAllowed ? 'block' : 'none';\n",
              "\n",
              "      async function convertToInteractive(key) {\n",
              "        const element = document.querySelector('#df-c9cefb2c-e606-4127-91ba-59f59d2b61c3');\n",
              "        const dataTable =\n",
              "          await google.colab.kernel.invokeFunction('convertToInteractive',\n",
              "                                                    [key], {});\n",
              "        if (!dataTable) return;\n",
              "\n",
              "        const docLinkHtml = 'Like what you see? Visit the ' +\n",
              "          '<a target=\"_blank\" href=https://colab.research.google.com/notebooks/data_table.ipynb>data table notebook</a>'\n",
              "          + ' to learn more about interactive tables.';\n",
              "        element.innerHTML = '';\n",
              "        dataTable['output_type'] = 'display_data';\n",
              "        await google.colab.output.renderOutput(dataTable, element);\n",
              "        const docLink = document.createElement('div');\n",
              "        docLink.innerHTML = docLinkHtml;\n",
              "        element.appendChild(docLink);\n",
              "      }\n",
              "    </script>\n",
              "  </div>\n",
              "\n",
              "\n",
              "    </div>\n",
              "  </div>\n"
            ],
            "application/vnd.google.colaboratory.intrinsic+json": {
              "type": "dataframe",
              "variable_name": "df"
            }
          },
          "metadata": {},
          "execution_count": 80
        }
      ]
    },
    {
      "cell_type": "markdown",
      "source": [
        "# Web pages classification\n"
      ],
      "metadata": {
        "id": "zMD0pKftSEFz"
      }
    },
    {
      "cell_type": "code",
      "source": [
        "import pandas as pd\n",
        "import requests\n",
        "import threading"
      ],
      "metadata": {
        "id": "haG2IC8CONXf"
      },
      "execution_count": 8,
      "outputs": []
    },
    {
      "cell_type": "code",
      "source": [
        "urls: pd.Series = df.sourceurl  ## Url column"
      ],
      "metadata": {
        "id": "EPR5EjIxNniq"
      },
      "execution_count": 9,
      "outputs": []
    },
    {
      "cell_type": "code",
      "source": [
        "# Shared resources\n",
        "connections = []\n",
        "errors = []\n",
        "\n",
        "# Lock for synchronizing access to shared resources\n",
        "lock = threading.Lock()\n",
        "\n",
        "def worker(url, index, total_urls):\n",
        "    try:\n",
        "        request = requests.get(url, timeout=1)\n",
        "        with lock:  # Ensure thread-safe access to shared lists\n",
        "            connections.append((request.status_code, url))\n",
        "    except Exception as e:\n",
        "        with lock:  # Ensure thread-safe access to shared lists\n",
        "            errors.append(url)\n",
        "    #finally:\n",
        "        #print(f\"classified [{index} of {total_urls}]\", url) # Uncommend this to get log about classification\n",
        "\n",
        "def fetch_status_codes(urls) -> tuple:\n",
        "    global connections, errors\n",
        "    connections = []  # Clear previous results\n",
        "    errors = []\n",
        "\n",
        "    # Create and start threads\n",
        "    threads = []\n",
        "    for index, url in enumerate(urls, start=1):\n",
        "        thread = threading.Thread(target=worker, args=(url, index, len(urls)))\n",
        "        thread.start()\n",
        "        threads.append(thread)\n",
        "\n",
        "    # Wait for all threads to complete\n",
        "    for thread in threads:\n",
        "        thread.join()\n",
        "\n",
        "    return connections, errors\n",
        "\n",
        "\n",
        "# Fetch status codes and errors\n",
        "status_codes, error_urls = fetch_status_codes(urls)"
      ],
      "metadata": {
        "collapsed": true,
        "id": "xshnYBEOmrzn"
      },
      "execution_count": null,
      "outputs": []
    },
    {
      "cell_type": "markdown",
      "source": [
        "## Classification with Time\n",
        "If you want to know how many time it takes to classify urls run this"
      ],
      "metadata": {
        "id": "Vr_qkPTRrxpv"
      }
    },
    {
      "cell_type": "code",
      "source": [
        "import threading\n",
        "import requests\n",
        "import time\n",
        "\n",
        "# Shared resources\n",
        "connections = []\n",
        "errors = []\n",
        "\n",
        "# Lock for synchronizing access to shared resources\n",
        "lock = threading.Lock()\n",
        "\n",
        "def worker(url, index, total_urls):\n",
        "    try:\n",
        "        request = requests.get(url, timeout=1)\n",
        "        with lock:  # Ensure thread-safe access to shared lists\n",
        "            connections.append((request.status_code, url))\n",
        "    except Exception as e:\n",
        "        with lock:  # Ensure thread-safe access to shared lists\n",
        "            errors.append(url)\n",
        "    #finally:\n",
        "        #print(f\"classified [{index} of {total_urls}]\", url) # Uncomment this to get log about classification\n",
        "\n",
        "def fetch_status_codes(urls) -> tuple:\n",
        "    global connections, errors\n",
        "    connections = []  # Clear previous results\n",
        "    errors = []\n",
        "\n",
        "    # Create and start threads\n",
        "    threads = []\n",
        "    for index, url in enumerate(urls, start=1):\n",
        "        thread = threading.Thread(target=worker, args=(url, index, len(urls)))\n",
        "        thread.start()\n",
        "        threads.append(thread)\n",
        "\n",
        "    # Wait for all threads to complete\n",
        "    for thread in threads:\n",
        "        thread.join()\n",
        "\n",
        "    return connections, errors\n",
        "\n",
        "# Measure execution time\n",
        "start_time = time.time()  # Record start time\n",
        "\n",
        "# Fetch status codes and errors\n",
        "status_codes, error_urls = fetch_status_codes(urls)\n",
        "\n",
        "end_time = time.time()  # Record end time\n",
        "elapsed_time = end_time - start_time  # Calculate elapsed time\n",
        "\n",
        "# Print results\n",
        "#print(f\"Status Codes: {status_codes}\")\n",
        "#print(f\"Error URLs: {error_urls}\")\n",
        "print(f\"Execution Time: {elapsed_time:.2f} seconds\")\n"
      ],
      "metadata": {
        "colab": {
          "base_uri": "https://localhost:8080/"
        },
        "id": "vcSDdQKdqK4m",
        "outputId": "7e2bbf3c-e5be-4f8a-fa69-1e068a5cedb6"
      },
      "execution_count": 10,
      "outputs": [
        {
          "output_type": "stream",
          "name": "stdout",
          "text": [
            "Execution Time: 52.03 seconds\n"
          ]
        }
      ]
    }
  ]
}